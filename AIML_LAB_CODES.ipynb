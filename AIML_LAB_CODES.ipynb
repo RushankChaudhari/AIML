{
  "nbformat": 4,
  "nbformat_minor": 0,
  "metadata": {
    "colab": {
      "provenance": []
    },
    "kernelspec": {
      "name": "python3",
      "display_name": "Python 3"
    },
    "language_info": {
      "name": "python"
    }
  },
  "cells": [
    {
      "cell_type": "markdown",
      "source": [
        "Basic Python programs"
      ],
      "metadata": {
        "id": "VvmyuXIVZc8C"
      }
    },
    {
      "cell_type": "code",
      "source": [
        "#is_prime\n",
        "\n",
        "def is_prime(n):\n",
        "    if n <= 1:\n",
        "        return False\n",
        "    for i in range(2, int(n**0.5) + 1):\n",
        "        if n % i == 0:\n",
        "            return False\n",
        "    return True\n",
        "\n",
        "num = 29\n",
        "if is_prime(num):\n",
        "    print(f\"{num} is a prime number.\")\n",
        "else:\n",
        "    print(f\"{num} is not a prime number.\")\n"
      ],
      "metadata": {
        "colab": {
          "base_uri": "https://localhost:8080/"
        },
        "id": "vHuNtby0Zhva",
        "outputId": "710901d3-cafa-44f5-c62f-35465328ba6a"
      },
      "execution_count": 12,
      "outputs": [
        {
          "output_type": "stream",
          "name": "stdout",
          "text": [
            "29 is a prime number.\n"
          ]
        }
      ]
    },
    {
      "cell_type": "code",
      "source": [
        "# Two_Sum\n",
        "\n",
        "def two_sum(nums, target):\n",
        "    seen = {}\n",
        "    for i, num in enumerate(nums):\n",
        "        complement = target - num\n",
        "        if complement in seen:\n",
        "            return [seen[complement], i]\n",
        "        seen[num] = i\n",
        "    return None\n",
        "\n",
        "nums = [2, 7, 11, 15]\n",
        "target = 9\n",
        "result = two_sum(nums, target)\n",
        "\n",
        "if result:\n",
        "    print(f\"Indices that sum to {target} are: {result}\")\n",
        "else:\n",
        "    print(\"No two numbers add up to the target.\")\n"
      ],
      "metadata": {
        "colab": {
          "base_uri": "https://localhost:8080/"
        },
        "id": "0Q7tdR7JfjMJ",
        "outputId": "f50a406e-9755-4624-ff9f-f2be561b7d9c"
      },
      "execution_count": 13,
      "outputs": [
        {
          "output_type": "stream",
          "name": "stdout",
          "text": [
            "Indices that sum to 9 are: [0, 1]\n"
          ]
        }
      ]
    },
    {
      "cell_type": "markdown",
      "source": [
        "Breadth-First Search (BFS)"
      ],
      "metadata": {
        "id": "kbdSw8E4ZKGw"
      }
    },
    {
      "cell_type": "code",
      "source": [
        "graph = {\n",
        "  '5' : ['3','7'],\n",
        "  '3' : ['2', '4'],\n",
        "  '7' : ['8'],\n",
        "  '2' : [],\n",
        "  '4' : ['8'],\n",
        "  '8' : []\n",
        "}\n",
        "\n",
        "visited = [] # List for visited nodes.\n",
        "queue = []     #Initialize a queue\n",
        "\n",
        "def bfs(visited, graph, node): #function for BFS\n",
        "  visited.append(node)\n",
        "  queue.append(node)\n",
        "\n",
        "  while queue:          # Creating loop to visit each node\n",
        "    m = queue.pop(0)\n",
        "    print (m, end = \" \")\n",
        "\n",
        "    for neighbour in graph[m]:\n",
        "      if neighbour not in visited:\n",
        "        visited.append(neighbour)\n",
        "        queue.append(neighbour)\n",
        "\n",
        "# Driver Code\n",
        "print(\"Following is the Breadth-First Search\")\n",
        "bfs(visited, graph, '5')"
      ],
      "metadata": {
        "colab": {
          "base_uri": "https://localhost:8080/"
        },
        "id": "ydS9-E8iZLb6",
        "outputId": "447bfe53-fcdb-4c3d-a0f0-b9bfcb2a564a"
      },
      "execution_count": 3,
      "outputs": [
        {
          "output_type": "stream",
          "name": "stdout",
          "text": [
            "Following is the Breadth-First Search\n",
            "5 3 7 2 4 8 "
          ]
        }
      ]
    },
    {
      "cell_type": "markdown",
      "source": [
        "Depth-First Search (DFS)"
      ],
      "metadata": {
        "id": "1obLBWl9ZUPj"
      }
    },
    {
      "cell_type": "code",
      "source": [
        "graph = {\n",
        "  '5' : ['3','7'],\n",
        "  '3' : ['2', '4'],\n",
        "  '7' : ['8'],\n",
        "  '2' : [],\n",
        "  '4' : ['8'],\n",
        "  '8' : []\n",
        "}\n",
        "\n",
        "visited = set()\n",
        "\n",
        "def dfs(visited, graph, node):\n",
        "    if node not in visited:\n",
        "        print (node)\n",
        "        visited.add(node)\n",
        "        for neighbour in graph[node]:\n",
        "            dfs(visited, graph, neighbour)\n",
        "\n",
        "print(\"Following is the Depth-First Search\")\n",
        "dfs(visited, graph, '5')"
      ],
      "metadata": {
        "colab": {
          "base_uri": "https://localhost:8080/"
        },
        "id": "I0vdRpbLaA4S",
        "outputId": "166c9686-401d-4f24-e9cb-af58a9ba103a"
      },
      "execution_count": 2,
      "outputs": [
        {
          "output_type": "stream",
          "name": "stdout",
          "text": [
            "Following is the Depth-First Search\n",
            "5\n",
            "3\n",
            "2\n",
            "4\n",
            "8\n",
            "7\n"
          ]
        }
      ]
    },
    {
      "cell_type": "markdown",
      "source": [
        "Iterative Deepening Depth-First Search (IDFS)"
      ],
      "metadata": {
        "id": "fd9k7VJyafsl"
      }
    },
    {
      "cell_type": "code",
      "source": [
        "from collections import defaultdict\n",
        "\n",
        "n = int(input(\"Enter No of Nodes:\"))\n",
        "e = int(input(\"Enter No of Edge:\"))\n",
        "\n",
        "graph = defaultdict(list)\n",
        "\n",
        "for i in range(e):\n",
        "    i,j = map(int,input().split())\n",
        "    graph[i].append(j)\n",
        "\n",
        "def dfs(v,goal,limit):\n",
        "    if v == goal:\n",
        "        return 1;\n",
        "\n",
        "    for i in graph[v]:\n",
        "        if limit-1 >= 0:\n",
        "            if dfs(i,goal,limit-1) !=  -1:\n",
        "                return 1\n",
        "    return -1\n",
        "\n",
        "\n",
        "goal = int(input(\"Enter Goal:\"))\n",
        "limit = int(input(\"Enter Limit:\"))\n",
        "\n",
        "res = dfs(0,goal,limit)\n",
        "\n",
        "if res == -1:\n",
        "    print(\"not found\")\n",
        "else:\n",
        "    print(\"found within depth limit\")"
      ],
      "metadata": {
        "colab": {
          "base_uri": "https://localhost:8080/"
        },
        "id": "bQsuT0b0ayZ5",
        "outputId": "918dee24-d1c9-478d-8d8c-fe960145e802"
      },
      "execution_count": 5,
      "outputs": [
        {
          "output_type": "stream",
          "name": "stdout",
          "text": [
            "Enter No of Nodes:6\n",
            "Enter No of Edge:7\n",
            "0 1\n",
            "0 2\n",
            "1 2\n",
            "1 3\n",
            "2 6\n",
            "4 7\n",
            "3 4\n",
            "Enter Goal:6\n",
            "Enter Limit:3\n",
            "found within depth limit\n"
          ]
        }
      ]
    },
    {
      "cell_type": "markdown",
      "source": [
        "Simple Plots: Bar, Scatter, Histogram, Box plot (using Matplotlib)"
      ],
      "metadata": {
        "id": "WKBUzrtibpZK"
      }
    },
    {
      "cell_type": "code",
      "source": [
        "import matplotlib.pyplot as plt\n",
        "import numpy as np\n",
        "\n",
        "# Data for plotting\n",
        "data = [5, 7, 8, 6, 2, 5, 6, 3, 4, 6, 5]\n",
        "\n",
        "# Bar plot\n",
        "plt.figure(figsize=(10, 6))\n",
        "plt.subplot(2, 2, 1)\n",
        "plt.bar(range(len(data)), data)\n",
        "plt.title(\"Bar Plot\")\n",
        "\n",
        "# Scatter plot\n",
        "plt.subplot(2, 2, 2)\n",
        "x = np.random.rand(10)\n",
        "y = np.random.rand(10)\n",
        "plt.scatter(x, y)\n",
        "plt.title(\"Scatter Plot\")\n",
        "\n",
        "# Histogram\n",
        "plt.subplot(2, 2, 3)\n",
        "plt.hist(data, bins=5)\n",
        "plt.title(\"Histogram\")\n",
        "\n",
        "# Box Plot\n",
        "plt.subplot(2, 2, 4)\n",
        "plt.boxplot(data)\n",
        "plt.title(\"Box Plot\")\n",
        "\n",
        "plt.tight_layout()\n",
        "plt.show()\n"
      ],
      "metadata": {
        "colab": {
          "base_uri": "https://localhost:8080/",
          "height": 607
        },
        "id": "DbuXOin1bmAx",
        "outputId": "d2c59b2e-7427-4b7d-bcaf-fadf630f4092"
      },
      "execution_count": 6,
      "outputs": [
        {
          "output_type": "display_data",
          "data": {
            "text/plain": [
              "<Figure size 1000x600 with 4 Axes>"
            ],
            "image/png": "[encoded data removed]"
          },
          "metadata": {}
        }
      ]
    },
    {
      "cell_type": "markdown",
      "source": [
        "Random Movement"
      ],
      "metadata": {
        "id": "cCzqEHeMbyuh"
      }
    },
    {
      "cell_type": "code",
      "source": [
        "import random\n",
        "import matplotlib.pyplot as plt\n",
        "\n",
        "def random_movement(steps):\n",
        "    x, y = [0], [0]\n",
        "    for _ in range(steps):\n",
        "        dx, dy = random.choice([(0, 1), (0, -1), (1, 0), (-1, 0)])\n",
        "        x.append(x[-1] + dx)\n",
        "        y.append(y[-1] + dy)\n",
        "\n",
        "    plt.plot(x, y, marker=\"o\")\n",
        "    plt.title(f\"Random Movement for {steps} steps\")\n",
        "    plt.show()\n",
        "\n",
        "random_movement(100)\n"
      ],
      "metadata": {
        "colab": {
          "base_uri": "https://localhost:8080/",
          "height": 452
        },
        "id": "faaTc0TOb3Mh",
        "outputId": "b1703c12-9770-4a8c-d86e-ee3ac18f787d"
      },
      "execution_count": 7,
      "outputs": [
        {
          "output_type": "display_data",
          "data": {
            "text/plain": [
              "<Figure size 640x480 with 1 Axes>"
            ],
            "image/png": "[encoded data removed]"
          },
          "metadata": {}
        }
      ]
    },
    {
      "cell_type": "markdown",
      "source": [
        "A* Algorithm"
      ],
      "metadata": {
        "id": "NLgQJffkcIQ4"
      }
    },
    {
      "cell_type": "code",
      "source": [
        "from queue import PriorityQueue\n",
        "\n",
        "class Graph:\n",
        "    def __init__(self):\n",
        "        self.edges = {}\n",
        "        self.h = {}\n",
        "\n",
        "    def neighbors(self, node):\n",
        "        return self.edges[node]\n",
        "\n",
        "    def get_cost(self, from_node, to_node):\n",
        "        return self.edges[from_node][to_node]\n",
        "\n",
        "def a_star_search(graph, start, goal):\n",
        "    open_list = PriorityQueue()\n",
        "    open_list.put((0, start))\n",
        "    came_from = {}\n",
        "    cost_so_far = {}\n",
        "\n",
        "    came_from[start] = None\n",
        "    cost_so_far[start] = 0\n",
        "\n",
        "    while not open_list.empty():\n",
        "        _, current = open_list.get()\n",
        "\n",
        "        if current == goal:\n",
        "            break\n",
        "\n",
        "        for neighbor in graph.neighbors(current):\n",
        "            new_cost = cost_so_far[current] + graph.get_cost(current, neighbor)\n",
        "            if neighbor not in cost_so_far or new_cost < cost_so_far[neighbor]:\n",
        "                cost_so_far[neighbor] = new_cost\n",
        "                priority = new_cost + graph.h[neighbor]\n",
        "                open_list.put((priority, neighbor))\n",
        "                came_from[neighbor] = current\n",
        "\n",
        "    return came_from, cost_so_far\n",
        "\n",
        "# Example usage\n",
        "graph = Graph()\n",
        "graph.edges = {\n",
        "    'A': {'B': 1, 'C': 3},\n",
        "    'B': {'A': 1, 'D': 1, 'E': 5},\n",
        "    'C': {'A': 3, 'F': 1},\n",
        "    'D': {'B': 1},\n",
        "    'E': {'B': 5, 'F': 2},\n",
        "    'F': {'C': 1, 'E': 2}\n",
        "}\n",
        "\n",
        "graph.h = {\n",
        "    'A': 6,\n",
        "    'B': 4,\n",
        "    'C': 4,\n",
        "    'D': 3,\n",
        "    'E': 2,\n",
        "    'F': 0\n",
        "}\n",
        "\n",
        "came_from, cost_so_far = a_star_search(graph, 'A', 'F')\n",
        "print(\"Path from A to F:\", came_from)\n"
      ],
      "metadata": {
        "colab": {
          "base_uri": "https://localhost:8080/"
        },
        "id": "XK5JRsPWcJ2K",
        "outputId": "5e1639a2-d2d4-459c-d2ab-50a85c04e04a"
      },
      "execution_count": 11,
      "outputs": [
        {
          "output_type": "stream",
          "name": "stdout",
          "text": [
            "Path from A to F: {'A': None, 'B': 'A', 'C': 'A', 'D': 'B', 'E': 'B', 'F': 'C'}\n"
          ]
        }
      ]
    }
  ]
}